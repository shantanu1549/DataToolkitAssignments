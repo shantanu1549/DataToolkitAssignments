{
  "nbformat": 4,
  "nbformat_minor": 0,
  "metadata": {
    "colab": {
      "provenance": []
    },
    "kernelspec": {
      "name": "python3",
      "display_name": "Python 3"
    },
    "language_info": {
      "name": "python"
    }
  },
  "cells": [
    {
      "cell_type": "code",
      "source": [
        "#Q1. Create a 3x3 NumPy array with random integers between 1 and 100. Then, interchange its rows and columns.\n",
        "\n",
        "import numpy as np\n",
        "\n",
        "arr = np.random.randint(1, 101, size=(3, 3))\n",
        "\n",
        "interchanged_arr = arr.T\n",
        "\n",
        "print(\"Original Array:\")\n",
        "print(arr)\n",
        "print(\"\\nInterchanged Array:\")\n",
        "print(interchanged_arr)\n"
      ],
      "metadata": {
        "colab": {
          "base_uri": "https://localhost:8080/"
        },
        "id": "8YMDZtHaAZbB",
        "outputId": "3e6b0b44-0d38-4462-bcc4-5f4b535a8e1b"
      },
      "execution_count": null,
      "outputs": [
        {
          "output_type": "stream",
          "name": "stdout",
          "text": [
            "Original Array:\n",
            "[[86 75 27]\n",
            " [47 71 99]\n",
            " [90 75 12]]\n",
            "\n",
            "Interchanged Array:\n",
            "[[86 47 90]\n",
            " [75 71 75]\n",
            " [27 99 12]]\n"
          ]
        }
      ]
    },
    {
      "cell_type": "code",
      "source": [
        "#Q2. Generate a 1D NumPy array with 10 elements. Reshape it into a 2x5 array, then into a 5x2 array.\n",
        "\n",
        "import numpy as np\n",
        "\n",
        "arr = np.arange(10)\n",
        "\n",
        "arr_2x5 = arr.reshape(2, 5)\n",
        "arr_5x2 = arr.reshape(5, 2)\n",
        "\n",
        "print(\"Original Array:\")\n",
        "print(arr)\n",
        "print(\"\\n2x5 Array:\")\n",
        "print(arr_2x5)\n",
        "print(\"\\n5x2 Array:\")\n",
        "print(arr_5x2)"
      ],
      "metadata": {
        "colab": {
          "base_uri": "https://localhost:8080/"
        },
        "id": "Sro-mKBhAnU9",
        "outputId": "d9abae3f-d280-4fdc-eb86-24420b760e55"
      },
      "execution_count": null,
      "outputs": [
        {
          "output_type": "stream",
          "name": "stdout",
          "text": [
            "Original Array:\n",
            "[0 1 2 3 4 5 6 7 8 9]\n",
            "\n",
            "2x5 Array:\n",
            "[[0 1 2 3 4]\n",
            " [5 6 7 8 9]]\n",
            "\n",
            "5x2 Array:\n",
            "[[0 1]\n",
            " [2 3]\n",
            " [4 5]\n",
            " [6 7]\n",
            " [8 9]]\n"
          ]
        }
      ]
    },
    {
      "cell_type": "code",
      "source": [
        "#Q3. Create a 4x4 NumPy array with random float values. Add a border of zeros around it, resulting in a 6x6 array.\n",
        "\n",
        "import numpy as np\n",
        "\n",
        "arr = np.random.rand(4, 4)\n",
        "\n",
        "bordered_arr = np.pad(arr, pad_width=1, mode='constant', constant_values=0)\n",
        "\n",
        "print(\"Original Array:\")\n",
        "print(arr)\n",
        "print(\"\\nBordered Array:\")\n",
        "print(bordered_arr)\n"
      ],
      "metadata": {
        "colab": {
          "base_uri": "https://localhost:8080/"
        },
        "id": "Lv134xWNA0Ud",
        "outputId": "a075a59e-c3c9-40f0-d85d-873d1571dc9b"
      },
      "execution_count": null,
      "outputs": [
        {
          "output_type": "stream",
          "name": "stdout",
          "text": [
            "Original Array:\n",
            "[[0.05967552 0.40352227 0.92856183 0.55263641]\n",
            " [0.29136385 0.16038455 0.63333364 0.00574734]\n",
            " [0.24747162 0.18696648 0.7190077  0.16116878]\n",
            " [0.96134005 0.37786842 0.70048617 0.72913997]]\n",
            "\n",
            "Bordered Array:\n",
            "[[0.         0.         0.         0.         0.         0.        ]\n",
            " [0.         0.05967552 0.40352227 0.92856183 0.55263641 0.        ]\n",
            " [0.         0.29136385 0.16038455 0.63333364 0.00574734 0.        ]\n",
            " [0.         0.24747162 0.18696648 0.7190077  0.16116878 0.        ]\n",
            " [0.         0.96134005 0.37786842 0.70048617 0.72913997 0.        ]\n",
            " [0.         0.         0.         0.         0.         0.        ]]\n"
          ]
        }
      ]
    },
    {
      "cell_type": "code",
      "source": [
        "#Q4. Using NumPy, create an array of integers from 10 to 60 with a step of 5.\n",
        "\n",
        "import numpy as np\n",
        "\n",
        "arr = np.arange(10, 61, 5)\n",
        "\n",
        "print(arr)\n"
      ],
      "metadata": {
        "colab": {
          "base_uri": "https://localhost:8080/"
        },
        "id": "hTwR0Do8A9lh",
        "outputId": "ec281847-9c88-409c-bd24-0844ec1f67c2"
      },
      "execution_count": null,
      "outputs": [
        {
          "output_type": "stream",
          "name": "stdout",
          "text": [
            "[10 15 20 25 30 35 40 45 50 55 60]\n"
          ]
        }
      ]
    },
    {
      "cell_type": "code",
      "source": [
        "#Q5. Create a NumPy array of strings ['python', 'numpy', 'pandas']. Apply different case transformations (uppercase, lowercase, title case, etc.) to each element.\n",
        "\n",
        "import numpy as np\n",
        "\n",
        "arr = np.array(['PythOn', 'nUmPy', 'PandaS'])\n",
        "\n",
        "uppercase_arr = np.char.upper(arr)\n",
        "lowercase_arr = np.char.lower(arr)\n",
        "titlecase_arr = np.char.title(arr)\n",
        "\n",
        "print(\"Original Array:\")\n",
        "print(arr)\n",
        "print(\"\\nUppercase Array:\")\n",
        "print(uppercase_arr)\n",
        "print(\"\\nLowercase Array:\")\n",
        "print(lowercase_arr)\n",
        "print(\"\\nTitlecase Array:\")\n",
        "print(titlecase_arr)\n"
      ],
      "metadata": {
        "colab": {
          "base_uri": "https://localhost:8080/"
        },
        "id": "3nL7jRa1BD7J",
        "outputId": "341daca6-438e-441d-cc93-08e287c89c15"
      },
      "execution_count": null,
      "outputs": [
        {
          "output_type": "stream",
          "name": "stdout",
          "text": [
            "Original Array:\n",
            "['PythOn' 'nUmPy' 'PandaS']\n",
            "\n",
            "Uppercase Array:\n",
            "['PYTHON' 'NUMPY' 'PANDAS']\n",
            "\n",
            "Lowercase Array:\n",
            "['python' 'numpy' 'pandas']\n",
            "\n",
            "Titlecase Array:\n",
            "['Python' 'Numpy' 'Pandas']\n"
          ]
        }
      ]
    },
    {
      "cell_type": "code",
      "source": [
        "#Q6. Generate a NumPy array of words. Insert a space between each character of every word in the array.\n",
        "\n",
        "import numpy as np\n",
        "a=np.array(['hello', 'world', 'numpy', 'array'])\n",
        "for word in a:\n",
        "    spaced_word = ' '.join(word)\n",
        "    print(spaced_word)"
      ],
      "metadata": {
        "id": "f80w9NGkRcQ5",
        "colab": {
          "base_uri": "https://localhost:8080/"
        },
        "outputId": "39ba599e-2c32-4a04-b3f5-7dd7173bd7ce"
      },
      "execution_count": 1,
      "outputs": [
        {
          "output_type": "stream",
          "name": "stdout",
          "text": [
            "h e l l o\n",
            "w o r l d\n",
            "n u m p y\n",
            "a r r a y\n"
          ]
        }
      ]
    },
    {
      "cell_type": "code",
      "source": [
        "#Q7. Create two 2D NumPy arrays and perform element-wise addition, subtraction, multiplication, and division.\n",
        "\n",
        "import numpy as np\n",
        "a=np.array([[1,2,3],[4,5,6]])\n",
        "b=np.array([[7,8,9],[10,11,12]])\n",
        "addition=a+b\n",
        "subtraction=a-b\n",
        "multiplication=a*b\n",
        "division=a/b\n",
        "print(a)\n",
        "print(b)\n",
        "print(\"Addition of array:\\n\",addition)\n",
        "print(\"Subtraction of arrays:\\n\",subtraction)\n",
        "print(\"Multiplication of two 2d arrays:\\n\",multiplication)\n",
        "print(\"Division of two 2d arrays:\\n\",division)"
      ],
      "metadata": {
        "colab": {
          "base_uri": "https://localhost:8080/"
        },
        "id": "FeMurtYby4gu",
        "outputId": "3bba1ffa-5e4b-441c-c4ee-9db753fb30d7"
      },
      "execution_count": 6,
      "outputs": [
        {
          "output_type": "stream",
          "name": "stdout",
          "text": [
            "[[1 2 3]\n",
            " [4 5 6]]\n",
            "[[ 7  8  9]\n",
            " [10 11 12]]\n",
            "Addition of array:\n",
            " [[ 8 10 12]\n",
            " [14 16 18]]\n",
            "Subtraction of arrays:\n",
            " [[-6 -6 -6]\n",
            " [-6 -6 -6]]\n",
            "Multiplication of two 2d arrays:\n",
            " [[ 7 16 27]\n",
            " [40 55 72]]\n",
            "Division of two 2d arrays:\n",
            " [[0.14285714 0.25       0.33333333]\n",
            " [0.4        0.45454545 0.5       ]]\n"
          ]
        }
      ]
    },
    {
      "cell_type": "code",
      "source": [
        "#Q8. Use NumPy to create a 5x5 identity matrix, then extract its diagonal elements.\n",
        "\n",
        "import numpy as np\n",
        "a=np.eye(5)\n",
        "print(a)\n",
        "print(\"Diagonal elements:\\n\",np.diag(a))"
      ],
      "metadata": {
        "colab": {
          "base_uri": "https://localhost:8080/"
        },
        "id": "emvux3f7zAi2",
        "outputId": "70c77585-575b-410e-d68b-24b4431c7d39"
      },
      "execution_count": 7,
      "outputs": [
        {
          "output_type": "stream",
          "name": "stdout",
          "text": [
            "[[1. 0. 0. 0. 0.]\n",
            " [0. 1. 0. 0. 0.]\n",
            " [0. 0. 1. 0. 0.]\n",
            " [0. 0. 0. 1. 0.]\n",
            " [0. 0. 0. 0. 1.]]\n",
            "Diagonal elements:\n",
            " [1. 1. 1. 1. 1.]\n"
          ]
        }
      ]
    },
    {
      "cell_type": "code",
      "source": [
        "#Q9. Generate a NumPy array of 100 random integers between 0 and 1000. Find and display all prime numbers in this array.\n",
        "\n",
        "import numpy as np\n",
        "a=np.random.randint(0,1000,100)\n",
        "print(a)\n",
        "for i in a:\n",
        "    if i>1:\n",
        "        for j in range(2,i):\n",
        "            if i%j==0:\n",
        "                break\n",
        "        else:\n",
        "            print(i,end=' ')\n"
      ],
      "metadata": {
        "colab": {
          "base_uri": "https://localhost:8080/"
        },
        "id": "OVcdEb1mzCaG",
        "outputId": "ab690c1f-a2fe-4dfd-e4e0-9edaf737ebb5"
      },
      "execution_count": 8,
      "outputs": [
        {
          "output_type": "stream",
          "name": "stdout",
          "text": [
            "[753 682 496 755 959 377 980 133 887 904 734 901 233 995 450 553 747 755\n",
            " 959 981 661 101 719 441 122 883 389 146  38 742 141 891 319 316 889 319\n",
            " 837 955 392 910 149 318 880 273 572 686  34 518 511   5 718 209 325 129\n",
            " 142 913 966  84 824 975 858 999 176 849 925 971 635 763 785 479 384 400\n",
            " 575 254 672 542 450 943 887 660  46 505 722 306 702 174 662 189 583 975\n",
            " 435 849 595 319 590 264 338  68 987 356]\n",
            "887 233 661 101 719 883 389 149 5 971 479 887 "
          ]
        }
      ]
    },
    {
      "cell_type": "code",
      "source": [
        "#Q10. Create a NumPy array representing daily temperatures for a month. Calculate and display the weekly averages.\n",
        "\n",
        "import numpy as np\n",
        "daily_temperature = np.random.randint(22, 25, 28)\n",
        "print(\"Daily Temperatures:\", daily_temperature)\n",
        "weekly_temperatures = daily_temperature.reshape(-1, 7)\n",
        "print(weekly_temperatures)\n",
        "weekly_average = np.mean(weekly_temperatures, axis=1)\n",
        "print(\"Weekly Averages:\", weekly_average)\n",
        "overall_average = np.mean(daily_temperature)\n",
        "print(\"Overall Monthly Average:\", overall_average)\n"
      ],
      "metadata": {
        "colab": {
          "base_uri": "https://localhost:8080/"
        },
        "id": "72doPcGwzEO2",
        "outputId": "317905a0-fcfe-4b03-c293-13b4eb1c0c9c"
      },
      "execution_count": 9,
      "outputs": [
        {
          "output_type": "stream",
          "name": "stdout",
          "text": [
            "Daily Temperatures: [24 23 24 23 24 23 23 22 22 23 23 23 24 22 23 22 23 23 22 22 22 23 24 22\n",
            " 24 22 24 23]\n",
            "[[24 23 24 23 24 23 23]\n",
            " [22 22 23 23 23 24 22]\n",
            " [23 22 23 23 22 22 22]\n",
            " [23 24 22 24 22 24 23]]\n",
            "Weekly Averages: [23.42857143 22.71428571 22.42857143 23.14285714]\n",
            "Overall Monthly Average: 22.928571428571427\n"
          ]
        }
      ]
    },
    {
      "cell_type": "code",
      "source": [],
      "metadata": {
        "id": "v9GEmfaMzF5h"
      },
      "execution_count": null,
      "outputs": []
    }
  ]
}